{
 "cells": [
  {
   "cell_type": "markdown",
   "metadata": {},
   "source": [
    "The task is to predict rain in australia using machine learning tools and the weatherAUS.csv dataset from Kaggle"
   ]
  },
  {
   "cell_type": "markdown",
   "metadata": {},
   "source": [
    "Step 1: Importing spark session and initializing spark"
   ]
  },
  {
   "cell_type": "code",
   "execution_count": 1,
   "metadata": {},
   "outputs": [],
   "source": [
    "#Importing the libraries\n",
    "#!pip install matplotlib\n",
    "#!pip install seaborn\n",
    "from pyspark import SparkContext\n",
    "from pyspark.sql import SparkSession\n",
    "from pyspark.sql.types import IntegerType\n",
    "import matplotlib.pyplot as plt\n",
    "from pyspark.sql.functions import col,avg\n",
    "from pyspark.sql.functions import when,lit\n",
    "from pyspark.ml.feature import StringIndexer, VectorAssembler\n",
    "from pyspark.ml import Pipeline\n",
    "from pyspark.ml.classification import LogisticRegression\n",
    "from pyspark.ml.evaluation import BinaryClassificationEvaluator\n",
    "from pyspark.ml.classification import DecisionTreeClassifier\n",
    "from pyspark.ml.classification import GBTClassifier\n",
    "from pyspark.ml.classification import RandomForestClassifier\n",
    "import seaborn as sns\n",
    "from pyspark.mllib.util import MLUtils\n",
    "from pyspark.mllib.evaluation import MulticlassMetrics"
   ]
  },
  {
   "cell_type": "code",
   "execution_count": 2,
   "metadata": {},
   "outputs": [],
   "source": [
    "# This line is to avoid error that is thrown if there is an existing spark context, \n",
    "sc = SparkContext.getOrCreate()\n",
    "\n",
    "# local[4]: run Spark locally with 4 logical cores \n",
    "\n",
    "# If there is no existing spark context, new context is created\n",
    "if (sc is None):\n",
    "    sc = SparkContext(master=\"local[4]\", appName=\"Assignment2\")\n",
    "spark = SparkSession(sparkContext=sc)"
   ]
  },
  {
   "cell_type": "markdown",
   "metadata": {},
   "source": [
    "Step 2: Loading the dataset and Printing the schema and total number of entries"
   ]
  },
  {
   "cell_type": "code",
   "execution_count": 3,
   "metadata": {},
   "outputs": [],
   "source": [
    "df_weather = spark.read.csv(\"weatherAUS.csv\", inferSchema = True, header= True)"
   ]
  },
  {
   "cell_type": "code",
   "execution_count": 4,
   "metadata": {},
   "outputs": [
    {
     "name": "stdout",
     "output_type": "stream",
     "text": [
      "root\n",
      " |-- Date: timestamp (nullable = true)\n",
      " |-- Location: string (nullable = true)\n",
      " |-- MinTemp: string (nullable = true)\n",
      " |-- MaxTemp: string (nullable = true)\n",
      " |-- Rainfall: string (nullable = true)\n",
      " |-- Evaporation: string (nullable = true)\n",
      " |-- Sunshine: string (nullable = true)\n",
      " |-- WindGustDir: string (nullable = true)\n",
      " |-- WindGustSpeed: string (nullable = true)\n",
      " |-- WindDir9am: string (nullable = true)\n",
      " |-- WindDir3pm: string (nullable = true)\n",
      " |-- WindSpeed9am: string (nullable = true)\n",
      " |-- WindSpeed3pm: string (nullable = true)\n",
      " |-- Humidity9am: string (nullable = true)\n",
      " |-- Humidity3pm: string (nullable = true)\n",
      " |-- Pressure9am: string (nullable = true)\n",
      " |-- Pressure3pm: string (nullable = true)\n",
      " |-- Cloud9am: string (nullable = true)\n",
      " |-- Cloud3pm: string (nullable = true)\n",
      " |-- Temp9am: string (nullable = true)\n",
      " |-- Temp3pm: string (nullable = true)\n",
      " |-- RainToday: string (nullable = true)\n",
      " |-- RainTomorrow: string (nullable = true)\n",
      "\n"
     ]
    }
   ],
   "source": [
    "df_weather.printSchema()"
   ]
  },
  {
   "cell_type": "code",
   "execution_count": 5,
   "metadata": {},
   "outputs": [
    {
     "data": {
      "text/plain": [
       "142193"
      ]
     },
     "execution_count": 5,
     "metadata": {},
     "output_type": "execute_result"
    }
   ],
   "source": [
    "# Calculating the total number of entries in the dataframe\n",
    "df_weather.count()"
   ]
  },
  {
   "cell_type": "markdown",
   "metadata": {},
   "source": [
    "### Part B: Data Cleaning and Processing"
   ]
  },
  {
   "cell_type": "markdown",
   "metadata": {},
   "source": [
    "Step 3: Deleting columns from the dataset\n",
    "The following columns have to be deleted to improve the efficiency of our model:\n",
    "1. Date\n",
    "2. Location\n",
    "3. Evaporation\n",
    "4. Sunshine\n",
    "5. Cloud9am\n",
    "6. Cloud3pm\n",
    "7. Temp9am\n",
    "8. Temp3pm\n"
   ]
  },
  {
   "cell_type": "code",
   "execution_count": 6,
   "metadata": {},
   "outputs": [],
   "source": [
    "df_weather = df_weather.drop('Date', 'Location', 'Evaporation', 'Sunshine', 'Cloud9am', 'Cloud3pm', 'Temp9am', 'Temp3pm' )"
   ]
  },
  {
   "cell_type": "code",
   "execution_count": 7,
   "metadata": {},
   "outputs": [
    {
     "name": "stdout",
     "output_type": "stream",
     "text": [
      "root\n",
      " |-- MinTemp: string (nullable = true)\n",
      " |-- MaxTemp: string (nullable = true)\n",
      " |-- Rainfall: string (nullable = true)\n",
      " |-- WindGustDir: string (nullable = true)\n",
      " |-- WindGustSpeed: string (nullable = true)\n",
      " |-- WindDir9am: string (nullable = true)\n",
      " |-- WindDir3pm: string (nullable = true)\n",
      " |-- WindSpeed9am: string (nullable = true)\n",
      " |-- WindSpeed3pm: string (nullable = true)\n",
      " |-- Humidity9am: string (nullable = true)\n",
      " |-- Humidity3pm: string (nullable = true)\n",
      " |-- Pressure9am: string (nullable = true)\n",
      " |-- Pressure3pm: string (nullable = true)\n",
      " |-- RainToday: string (nullable = true)\n",
      " |-- RainTomorrow: string (nullable = true)\n",
      "\n"
     ]
    }
   ],
   "source": [
    "df_weather.printSchema()"
   ]
  },
  {
   "cell_type": "markdown",
   "metadata": {},
   "source": [
    "Step 4: Print the number of missing data in each column"
   ]
  },
  {
   "cell_type": "code",
   "execution_count": 8,
   "metadata": {},
   "outputs": [
    {
     "name": "stdout",
     "output_type": "stream",
     "text": [
      "MinTemp 637\n",
      "MaxTemp 322\n",
      "Rainfall 1406\n",
      "WindGustDir 9330\n",
      "WindGustSpeed 9270\n",
      "WindDir9am 10013\n",
      "WindDir3pm 3778\n",
      "WindSpeed9am 1348\n",
      "WindSpeed3pm 2630\n",
      "Humidity9am 1774\n",
      "Humidity3pm 3610\n",
      "Pressure9am 14014\n",
      "Pressure3pm 13981\n",
      "RainToday 1406\n",
      "RainTomorrow 0\n"
     ]
    }
   ],
   "source": [
    "\n",
    "for c in df_weather.columns:\n",
    "    print(c, df_weather.filter(col(c)== \"NA\").count())\n",
    "    "
   ]
  },
  {
   "cell_type": "markdown",
   "metadata": {},
   "source": [
    "Step 5: Fill missing data with average value(numeric data) and maximum occurence(non numeric data)"
   ]
  },
  {
   "cell_type": "markdown",
   "metadata": {},
   "source": [
    "a)Finding the columns with numeric data and fillling it with average value\n",
    "The numeric columns are:\n",
    "\n",
    "1) MinTemp\n",
    "\n",
    "2) MaxTemp\n",
    "\n",
    "3) Rainfall\n",
    "\n",
    "4) WindGustSpeed\n",
    "\n",
    "5) WindSpeed9am\n",
    "\n",
    "6) WindSpeed3pm\n",
    "\n",
    "7) Humidity9am\n",
    "\n",
    "8) Humidity3pm\n",
    "\n",
    "9) Pressure9am\n",
    "\n",
    "10) Pressure3pm"
   ]
  },
  {
   "cell_type": "code",
   "execution_count": 9,
   "metadata": {},
   "outputs": [
    {
     "name": "stdout",
     "output_type": "stream",
     "text": [
      "Average value of MinTemp is 12.186399728729311\n",
      "Average value of MaxTemp is 23.2267841912725\n",
      "Average value of Rainfall is 2.3499740743107442\n",
      "Average value of WindGustSpeed is 39.98429165757619\n",
      "Average value of WindSpeed9am is 14.001988000994\n",
      "Average value of WindSpeed3pm is 18.63757586179718\n",
      "Average value of Humidity9am is 68.8438103105705\n",
      "Average value of Humidity3pm is 51.482606091656265\n",
      "Average value of Pressure9am is 1017.6537584159615\n",
      "Average value of Pressure3pm is 1015.2582035378894\n"
     ]
    }
   ],
   "source": [
    "\n",
    "columns = [ \"MinTemp\", \"MaxTemp\", \"Rainfall\", \"WindGustSpeed\", \"WindSpeed9am\", \"WindSpeed3pm\", \"Humidity9am\", \"Humidity3pm\", \"Pressure9am\", \"Pressure3pm\"  ]\n",
    "for c in columns:\n",
    "    k = df_weather.agg(avg(col(c)).alias(c)).collect()[0][c] #getting the average value\n",
    "    print(\"Average value of\", c, \"is\", k)\n",
    "    # replacing NA with the average value\n",
    "    df_weather = df_weather.withColumn(c ,when(df_weather[c] == \"NA\", lit(k)).otherwise(df_weather[c]))\n",
    "    "
   ]
  },
  {
   "cell_type": "markdown",
   "metadata": {},
   "source": [
    "b) Finding the columns with  non numeric data and filling with the most frequent value. The non numeric columns are:\n",
    "\n",
    "1) WindGustDir\n",
    "\n",
    "2) WindDir9am\n",
    "\n",
    "3) WindDir3pm\n",
    "\n",
    "4) RainToday\n",
    "\n",
    "5) RainTomorrow"
   ]
  },
  {
   "cell_type": "code",
   "execution_count": 10,
   "metadata": {},
   "outputs": [
    {
     "name": "stdout",
     "output_type": "stream",
     "text": [
      "Most frequent item of WindGustDir is W\n",
      "Most frequent item of WindDir9am is N\n",
      "Most frequent item of WindDir3pm is SE\n",
      "Most frequent item of RainToday is No\n",
      "Most frequent item of RainTomorrow is No\n"
     ]
    }
   ],
   "source": [
    "columns = [\"WindGustDir\", \"WindDir9am\", \"WindDir3pm\", \"RainToday\", \"RainTomorrow\"]\n",
    "for c in columns:\n",
    "    freq = df_weather.groupBy(c).count() # getting the frequency for each distinct items in the column\n",
    "    # sorting the frequency of the items in descending order and taking the top most value as most frequent word\n",
    "    max_freq = freq.sort(\"count\", ascending=False).collect()[0][c] \n",
    "    print(\"Most frequent item of\", c, \"is\", max_freq)\n",
    "    # Replacing NA with the most frequent item in the column\n",
    "    df_weather = df_weather.withColumn(c ,when(df_weather[c] == \"NA\", lit(max_freq)).otherwise(df_weather[c]))"
   ]
  },
  {
   "cell_type": "code",
   "execution_count": 11,
   "metadata": {},
   "outputs": [
    {
     "name": "stdout",
     "output_type": "stream",
     "text": [
      "MinTemp 0\n",
      "MaxTemp 0\n",
      "Rainfall 0\n",
      "WindGustDir 0\n",
      "WindGustSpeed 0\n",
      "WindDir9am 0\n",
      "WindDir3pm 0\n",
      "WindSpeed9am 0\n",
      "WindSpeed3pm 0\n",
      "Humidity9am 0\n",
      "Humidity3pm 0\n",
      "Pressure9am 0\n",
      "Pressure3pm 0\n",
      "RainToday 0\n",
      "RainTomorrow 0\n"
     ]
    }
   ],
   "source": [
    "# To check for NA in each column\n",
    "for c in df_weather.columns:\n",
    "    print(c, df_weather.filter(col(c)== \"NA\").count())\n",
    "    "
   ]
  },
  {
   "cell_type": "markdown",
   "metadata": {},
   "source": [
    "Step 6: Data Transformation\n",
    "\n",
    "1) Converting the numeric value columns into double data type instead of string data type\n",
    "\n",
    "2) Converting the non numeric column into numbers using the StringIndexer"
   ]
  },
  {
   "cell_type": "code",
   "execution_count": 12,
   "metadata": {},
   "outputs": [
    {
     "name": "stdout",
     "output_type": "stream",
     "text": [
      "root\n",
      " |-- MinTemp: string (nullable = true)\n",
      " |-- MaxTemp: string (nullable = true)\n",
      " |-- Rainfall: string (nullable = true)\n",
      " |-- WindGustDir: string (nullable = true)\n",
      " |-- WindGustSpeed: string (nullable = true)\n",
      " |-- WindDir9am: string (nullable = true)\n",
      " |-- WindDir3pm: string (nullable = true)\n",
      " |-- WindSpeed9am: string (nullable = true)\n",
      " |-- WindSpeed3pm: string (nullable = true)\n",
      " |-- Humidity9am: string (nullable = true)\n",
      " |-- Humidity3pm: string (nullable = true)\n",
      " |-- Pressure9am: string (nullable = true)\n",
      " |-- Pressure3pm: string (nullable = true)\n",
      " |-- RainToday: string (nullable = true)\n",
      " |-- RainTomorrow: string (nullable = true)\n",
      "\n"
     ]
    }
   ],
   "source": [
    "df_weather.printSchema()"
   ]
  },
  {
   "cell_type": "markdown",
   "metadata": {},
   "source": [
    "For numeric data"
   ]
  },
  {
   "cell_type": "code",
   "execution_count": 13,
   "metadata": {},
   "outputs": [
    {
     "name": "stdout",
     "output_type": "stream",
     "text": [
      "10\n"
     ]
    }
   ],
   "source": [
    "columns = [ \"MinTemp\", \"MaxTemp\", \"Rainfall\", \"WindGustSpeed\", \"WindSpeed9am\", \"WindSpeed3pm\", \"Humidity9am\", \"Humidity3pm\", \"Pressure9am\", \"Pressure3pm\"  ]\n",
    "count = 0\n",
    "for c in columns:\n",
    "    df_weather = df_weather.withColumn(c, df_weather[c].cast(\"double\"))\n",
    "    count+=1\n",
    "print(count)"
   ]
  },
  {
   "cell_type": "markdown",
   "metadata": {},
   "source": [
    "For non numeric columns"
   ]
  },
  {
   "cell_type": "code",
   "execution_count": 14,
   "metadata": {},
   "outputs": [],
   "source": [
    "non_numeric_columns = ['WindGustDir', 'WindDir9am', 'WindDir3pm', 'RainToday', 'RainTomorrow']\n",
    "# Declares the stages variable to output as output.\n",
    "stages = []"
   ]
  },
  {
   "cell_type": "code",
   "execution_count": 15,
   "metadata": {},
   "outputs": [],
   "source": [
    "for n in non_numeric_columns:\n",
    "    # a numeric value is given to each category\n",
    "    stringIndexer = StringIndexer(inputCol = n, outputCol = n + 'Index')\n",
    "    stages += [stringIndexer]"
   ]
  },
  {
   "cell_type": "markdown",
   "metadata": {},
   "source": [
    "Step 7: Create the feature vector and divide the dataset"
   ]
  },
  {
   "cell_type": "code",
   "execution_count": 16,
   "metadata": {},
   "outputs": [],
   "source": [
    "non_numeric_columns1 = ['WindGustDir', 'WindDir9am', 'WindDir3pm', 'RainToday']\n",
    "\n",
    "string_label = StringIndexer(inputCol = 'RainTomorrow', outputCol = 'label')\n",
    "stages += [string_label]\n",
    "numeric_columns = [ \"MinTemp\", \"MaxTemp\", \"Rainfall\", \"WindGustSpeed\", \"WindSpeed9am\", \"WindSpeed3pm\", \"Humidity9am\", \"Humidity3pm\", \"Pressure9am\", \"Pressure3pm\"  ]\n",
    "assemblerInputs = [c + \"Index\" for c in non_numeric_columns1] + numeric_columns"
   ]
  },
  {
   "cell_type": "code",
   "execution_count": 17,
   "metadata": {},
   "outputs": [
    {
     "data": {
      "text/plain": [
       "['WindGustDirIndex',\n",
       " 'WindDir9amIndex',\n",
       " 'WindDir3pmIndex',\n",
       " 'RainTodayIndex',\n",
       " 'MinTemp',\n",
       " 'MaxTemp',\n",
       " 'Rainfall',\n",
       " 'WindGustSpeed',\n",
       " 'WindSpeed9am',\n",
       " 'WindSpeed3pm',\n",
       " 'Humidity9am',\n",
       " 'Humidity3pm',\n",
       " 'Pressure9am',\n",
       " 'Pressure3pm']"
      ]
     },
     "execution_count": 17,
     "metadata": {},
     "output_type": "execute_result"
    }
   ],
   "source": [
    "assemblerInputs"
   ]
  },
  {
   "cell_type": "code",
   "execution_count": 18,
   "metadata": {},
   "outputs": [],
   "source": [
    "assembler = VectorAssembler(inputCols = assemblerInputs, outputCol=\"features\")\n",
    "stages += [assembler]\n"
   ]
  },
  {
   "cell_type": "code",
   "execution_count": 19,
   "metadata": {},
   "outputs": [
    {
     "name": "stdout",
     "output_type": "stream",
     "text": [
      "root\n",
      " |-- label: double (nullable = false)\n",
      " |-- features: vector (nullable = true)\n",
      " |-- MinTemp: double (nullable = true)\n",
      " |-- MaxTemp: double (nullable = true)\n",
      " |-- Rainfall: double (nullable = true)\n",
      " |-- WindGustDir: string (nullable = true)\n",
      " |-- WindGustSpeed: double (nullable = true)\n",
      " |-- WindDir9am: string (nullable = true)\n",
      " |-- WindDir3pm: string (nullable = true)\n",
      " |-- WindSpeed9am: double (nullable = true)\n",
      " |-- WindSpeed3pm: double (nullable = true)\n",
      " |-- Humidity9am: double (nullable = true)\n",
      " |-- Humidity3pm: double (nullable = true)\n",
      " |-- Pressure9am: double (nullable = true)\n",
      " |-- Pressure3pm: double (nullable = true)\n",
      " |-- RainToday: string (nullable = true)\n",
      " |-- RainTomorrow: string (nullable = true)\n",
      "\n"
     ]
    }
   ],
   "source": [
    "columns1 = df_weather.columns\n",
    "\n",
    "pipeline = Pipeline(stages = stages)\n",
    "pipelineModel = pipeline.fit(df_weather)\n",
    "weather_model = pipelineModel.transform(df_weather)\n",
    "selectedCols = ['label', 'features'] + columns1\n",
    "weather_model = weather_model.select(selectedCols)\n",
    "\n",
    "weather_model.printSchema()\n",
    "\n",
    "\n"
   ]
  },
  {
   "cell_type": "code",
   "execution_count": 20,
   "metadata": {},
   "outputs": [],
   "source": [
    "# Dividing the data into train and test sets\n",
    "train, test = weather_model.randomSplit([0.7, 0.3], seed = 2018)"
   ]
  },
  {
   "cell_type": "code",
   "execution_count": 21,
   "metadata": {},
   "outputs": [
    {
     "name": "stdout",
     "output_type": "stream",
     "text": [
      "99626\n",
      "42567\n"
     ]
    }
   ],
   "source": [
    "print(train.count())\n",
    "print(test.count())"
   ]
  },
  {
   "cell_type": "markdown",
   "metadata": {},
   "source": [
    "### Part C : Apply Machine Learning Algorithms"
   ]
  },
  {
   "cell_type": "markdown",
   "metadata": {},
   "source": [
    "Step 8: Apply Machine Learning classification algorithms\n",
    "        \n",
    "        Compare their accuracy\n",
    "        \n",
    "        Plot the accuracy as a bar graph\n",
    "\n",
    "The BinaryClassificationEvaluator is used to evaluate the models.\n"
   ]
  },
  {
   "cell_type": "markdown",
   "metadata": {},
   "source": [
    "Decision tree classifier"
   ]
  },
  {
   "cell_type": "code",
   "execution_count": 22,
   "metadata": {},
   "outputs": [
    {
     "name": "stdout",
     "output_type": "stream",
     "text": [
      "+----------+------------+-----+\n",
      "|prediction|RainTomorrow|label|\n",
      "+----------+------------+-----+\n",
      "|       0.0|          No|  0.0|\n",
      "|       1.0|          No|  0.0|\n",
      "|       0.0|          No|  0.0|\n",
      "|       0.0|          No|  0.0|\n",
      "|       0.0|          No|  0.0|\n",
      "|       0.0|          No|  0.0|\n",
      "|       0.0|          No|  0.0|\n",
      "|       0.0|          No|  0.0|\n",
      "|       0.0|          No|  0.0|\n",
      "|       0.0|          No|  0.0|\n",
      "+----------+------------+-----+\n",
      "only showing top 10 rows\n",
      "\n"
     ]
    }
   ],
   "source": [
    "# DecisionTreeClassifier gets the number of nodes and the tree depth in the model and stores it in dt.\n",
    "dt = DecisionTreeClassifier(featuresCol = 'features', labelCol = 'label', maxDepth = 25)\n",
    "dtModel = dt.fit(train)\n",
    "\n",
    "#transform() method is used to predict the test data\n",
    "predictions_dt = dtModel.transform(test)\n",
    "\n",
    "predictions_dt.select('prediction','RainTomorrow', 'label' ).show(10)\n"
   ]
  },
  {
   "cell_type": "markdown",
   "metadata": {},
   "source": [
    "Accuracy for Decision Tree classifier"
   ]
  },
  {
   "cell_type": "code",
   "execution_count": 23,
   "metadata": {},
   "outputs": [
    {
     "name": "stdout",
     "output_type": "stream",
     "text": [
      "Test Area Under ROC: 0.7128143774125967\n"
     ]
    }
   ],
   "source": [
    "dt_evaluator = BinaryClassificationEvaluator()\n",
    "accuracy_dt = dt_evaluator.evaluate(predictions_dt)\n",
    "print(\"Test Area Under ROC: \" + str(dt_evaluator.evaluate(predictions_dt, {dt_evaluator.metricName: \"areaUnderROC\"})))\n"
   ]
  },
  {
   "cell_type": "markdown",
   "metadata": {},
   "source": [
    "Random Forest Classifier"
   ]
  },
  {
   "cell_type": "code",
   "execution_count": 24,
   "metadata": {},
   "outputs": [
    {
     "name": "stdout",
     "output_type": "stream",
     "text": [
      "+----------+------------+-----+\n",
      "|prediction|RainTomorrow|label|\n",
      "+----------+------------+-----+\n",
      "|       0.0|          No|  0.0|\n",
      "|       0.0|          No|  0.0|\n",
      "|       0.0|          No|  0.0|\n",
      "|       0.0|          No|  0.0|\n",
      "|       0.0|          No|  0.0|\n",
      "|       0.0|          No|  0.0|\n",
      "|       0.0|          No|  0.0|\n",
      "|       0.0|          No|  0.0|\n",
      "|       0.0|          No|  0.0|\n",
      "|       0.0|          No|  0.0|\n",
      "+----------+------------+-----+\n",
      "only showing top 10 rows\n",
      "\n"
     ]
    }
   ],
   "source": [
    "rf = RandomForestClassifier(labelCol=\"label\", featuresCol=\"features\", numTrees=10)\n",
    "\n",
    "rfmodel = rf.fit(train)\n",
    "#transform() method is used to predict the test data\n",
    "predictions_rf = rfmodel.transform(test)\n",
    "\n",
    "predictions_rf.select('prediction','RainTomorrow', 'label').show(10)\n",
    "\n"
   ]
  },
  {
   "cell_type": "markdown",
   "metadata": {},
   "source": [
    "Accuracy of Random Forest"
   ]
  },
  {
   "cell_type": "code",
   "execution_count": 25,
   "metadata": {},
   "outputs": [
    {
     "name": "stdout",
     "output_type": "stream",
     "text": [
      "Test Area Under ROC: 0.8186051802082278\n"
     ]
    }
   ],
   "source": [
    "rf_evaluator = BinaryClassificationEvaluator()\n",
    "accuracy_rf = rf_evaluator.evaluate(predictions_rf)\n",
    "print(\"Test Area Under ROC: \" + str(rf_evaluator.evaluate(predictions_rf, {rf_evaluator.metricName: \"areaUnderROC\"})))\n"
   ]
  },
  {
   "cell_type": "markdown",
   "metadata": {},
   "source": [
    "Logistic Regression"
   ]
  },
  {
   "cell_type": "code",
   "execution_count": 26,
   "metadata": {},
   "outputs": [
    {
     "name": "stdout",
     "output_type": "stream",
     "text": [
      "+----------+------------+-----+\n",
      "|prediction|RainTomorrow|label|\n",
      "+----------+------------+-----+\n",
      "|       0.0|          No|  0.0|\n",
      "|       0.0|          No|  0.0|\n",
      "|       0.0|          No|  0.0|\n",
      "|       0.0|          No|  0.0|\n",
      "|       0.0|          No|  0.0|\n",
      "|       0.0|          No|  0.0|\n",
      "|       0.0|          No|  0.0|\n",
      "|       0.0|          No|  0.0|\n",
      "|       0.0|          No|  0.0|\n",
      "|       0.0|          No|  0.0|\n",
      "+----------+------------+-----+\n",
      "only showing top 10 rows\n",
      "\n"
     ]
    }
   ],
   "source": [
    "lr = LogisticRegression(featuresCol = 'features', labelCol = 'label',    maxIter=10)\n",
    "lrModel = lr.fit(train)\n",
    "predictions_lr = lrModel.transform(test)\n",
    "\n",
    "predictions_lr.select('prediction','RainTomorrow', 'label' ).show(10)\n"
   ]
  },
  {
   "cell_type": "markdown",
   "metadata": {},
   "source": [
    "Accuracy for Logistic Regression"
   ]
  },
  {
   "cell_type": "code",
   "execution_count": 27,
   "metadata": {},
   "outputs": [
    {
     "name": "stdout",
     "output_type": "stream",
     "text": [
      "Test Area Under ROC: 0.8128918210724156\n"
     ]
    }
   ],
   "source": [
    "lr_evaluator = BinaryClassificationEvaluator()\n",
    "accuracy_lr = lr_evaluator.evaluate(predictions_lr)\n",
    "print(\"Test Area Under ROC: \" + str(lr_evaluator.evaluate(predictions_lr, {lr_evaluator.metricName: \"areaUnderROC\"})))\n"
   ]
  },
  {
   "cell_type": "markdown",
   "metadata": {},
   "source": [
    "Gradient boosted tree classifier"
   ]
  },
  {
   "cell_type": "code",
   "execution_count": 28,
   "metadata": {},
   "outputs": [
    {
     "name": "stdout",
     "output_type": "stream",
     "text": [
      "+----------+------------+-----+\n",
      "|prediction|RainTomorrow|label|\n",
      "+----------+------------+-----+\n",
      "|       0.0|          No|  0.0|\n",
      "|       0.0|          No|  0.0|\n",
      "|       0.0|          No|  0.0|\n",
      "|       0.0|          No|  0.0|\n",
      "|       0.0|          No|  0.0|\n",
      "|       0.0|          No|  0.0|\n",
      "|       0.0|          No|  0.0|\n",
      "|       0.0|          No|  0.0|\n",
      "|       0.0|          No|  0.0|\n",
      "|       0.0|          No|  0.0|\n",
      "+----------+------------+-----+\n",
      "only showing top 10 rows\n",
      "\n"
     ]
    }
   ],
   "source": [
    "gbt = GBTClassifier(maxIter=10)\n",
    "gbtModel = gbt.fit(train)\n",
    "predictions_gbt = gbtModel.transform(test)\n",
    "predictions_gbt.select('prediction','RainTomorrow', 'label').show(10)\n",
    " \n"
   ]
  },
  {
   "cell_type": "code",
   "execution_count": 29,
   "metadata": {},
   "outputs": [
    {
     "name": "stdout",
     "output_type": "stream",
     "text": [
      "Test Area Under ROC: 0.8556724818957474\n"
     ]
    }
   ],
   "source": [
    "#Use the #BinaryClassificationEvaluator method to evaluate the accuracy of the model\n",
    "gbt_evaluator = BinaryClassificationEvaluator()\n",
    "accuracy_gbt = gbt_evaluator.evaluate(predictions_gbt)\n",
    "print(\"Test Area Under ROC: \" + str(gbt_evaluator.evaluate(predictions_gbt, {gbt_evaluator.metricName: \"areaUnderROC\"})))\n"
   ]
  },
  {
   "cell_type": "markdown",
   "metadata": {},
   "source": [
    "Bar Chart"
   ]
  },
  {
   "cell_type": "code",
   "execution_count": 30,
   "metadata": {},
   "outputs": [
    {
     "name": "stdout",
     "output_type": "stream",
     "text": [
      "Accuracy of Decision Tree classifier is: 0.7128143774125968\n",
      "Accuracy of Random Forest classifier is: 0.8186051802082277\n",
      "Accuracy of logistic regression is classifier: 0.8128918210724098\n",
      "Accuracy of Gradient boosted tree classifier is: 0.8556724818957463\n"
     ]
    }
   ],
   "source": [
    "# The accuracies are:\n",
    "print(\"Accuracy of Decision Tree classifier is:\", accuracy_dt)\n",
    "print(\"Accuracy of Random Forest classifier is:\", accuracy_rf)\n",
    "print(\"Accuracy of logistic regression is classifier:\", accuracy_lr)\n",
    "print(\"Accuracy of Gradient boosted tree classifier is:\", accuracy_gbt) "
   ]
  },
  {
   "cell_type": "code",
   "execution_count": 31,
   "metadata": {},
   "outputs": [
    {
     "data": {
      "image/png": "[encoded data removed]",
      "text/plain": [
       "<Figure size 432x288 with 1 Axes>"
      ]
     },
     "metadata": {
      "needs_background": "light"
     },
     "output_type": "display_data"
    }
   ],
   "source": [
    "x_axis = [\"decision_tree\", \"random_forest\", \"logistic_reg\", \"gbt\"]\n",
    "y_axis = [accuracy_dt, accuracy_rf, accuracy_lr, accuracy_gbt]\n",
    "barlist = plt.bar(x_axis,y_axis)\n",
    "plt.title(\"comparing the accuracies from each classifier\")\n",
    "plt.ylabel(\"accuracy\")\n",
    "barlist[0].set_color('pink')\n",
    "barlist[1].set_color('purple')\n",
    "barlist[2].set_color('indigo')\n",
    "barlist[3].set_color('orange')\n",
    "plt.show()"
   ]
  },
  {
   "cell_type": "markdown",
   "metadata": {},
   "source": [
    "Step 9: Calculate confusion matrix,\n",
    "        precision,\n",
    "        recall,\n",
    "        F1 score\n",
    "\n",
    "\n",
    "Confusion matrix gives us the summary of prediction results and based on these results the other performance metrics are calculated.\n",
    "Confusion matrix consists of the following:\n",
    "1) True Positives\n",
    "2) True Negatives\n",
    "3) False Positives\n",
    "4) False Negatives\n",
    "\n",
    "\n",
    "From this, we can calculate:\n",
    "\n",
    "        \n",
    "1) Accuracy = (True Positive + True Negative)/(True Positive + False Positive + False Negative + True Negative)\n",
    "In the above steps, accuracy was caculated, which gives the number of correct predictions made by the model out of all kinds of predictions made. \n",
    "\n",
    "In the following steps the below measures are calculated so as to evaluate the models better\n",
    "\n",
    "2) Precision = (True Positive)/(True Positive + False Positive)\n",
    "It tells us what proportion of the days that were predicted to have rain and actually there was rain on those days.\n",
    "\n",
    "3) Recall = (True Positive)/(True Positive + False Negative)\n",
    "It tells us what proportion of rainy days were predicted by the algorithm as rainy days\n",
    "\n",
    "4) F1 Score = (2*Precision*Recall)/(Precision + Recall)\n",
    "Its a score that represents both precision and recall\n",
    "        "
   ]
  },
  {
   "cell_type": "markdown",
   "metadata": {},
   "source": [
    "Decision tree"
   ]
  },
  {
   "cell_type": "code",
   "execution_count": 32,
   "metadata": {},
   "outputs": [
    {
     "name": "stdout",
     "output_type": "stream",
     "text": [
      "Confusion matrix:\n",
      "[[27630.  5428.]\n",
      " [ 4260.  5249.]] \n",
      "\n",
      "Overall statistics\n",
      "Precision = 0.7724058543002795\n",
      "Recall = 0.7724058543002795\n",
      "F1 Score = 0.7724058543002795\n"
     ]
    },
    {
     "data": {
      "image/png": "[encoded data removed]",
      "text/plain": [
       "<Figure size 432x288 with 2 Axes>"
      ]
     },
     "metadata": {
      "needs_background": "light"
     },
     "output_type": "display_data"
    }
   ],
   "source": [
    "pl_dt = predictions_dt.select(['prediction', 'label']).rdd.map(lambda line:(line[0], line[1]))\n",
    "#pl_dt = test.map(lambda lp: (float(dtModel.predict(lp.features)), lp.label))\n",
    "\n",
    "# Instantiating the metrics object\n",
    "metrics_dt = MulticlassMetrics(pl_dt)\n",
    "confusion_matrix_dt = metrics_dt.confusionMatrix().toArray()\n",
    "print(\"Confusion matrix:\")\n",
    "print(confusion_matrix_dt, \"\\n\")\n",
    "print(\"Overall statistics\")\n",
    "print(\"Precision =\", metrics_dt.precision())\n",
    "print(\"Recall =\", metrics_dt.recall())\n",
    "print(\"F1 Score =\", metrics_dt.fMeasure())\n",
    "\n",
    "plt.title('Confusion matrix of Decision tree classifier')\n",
    "ax = sns.heatmap(confusion_matrix_dt, cmap=\"YlGnBu\")\n",
    "plt.xlabel('Predicted')\n",
    "plt.ylabel('True')\n",
    "plt.show()\n"
   ]
  },
  {
   "cell_type": "markdown",
   "metadata": {},
   "source": [
    "Random Forest"
   ]
  },
  {
   "cell_type": "code",
   "execution_count": 33,
   "metadata": {},
   "outputs": [
    {
     "name": "stdout",
     "output_type": "stream",
     "text": [
      "Confusion matrix:\n",
      "[[27630.  5428.]\n",
      " [ 4260.  5249.]] \n",
      "\n",
      "Overall Statistics\n",
      "Precision =  0.7724058543002795\n",
      "Recall =  0.7724058543002795\n",
      "F1 Score =  0.7724058543002795\n"
     ]
    },
    {
     "data": {
      "image/png": "[encoded data removed]",
      "text/plain": [
       "<Figure size 432x288 with 2 Axes>"
      ]
     },
     "metadata": {
      "needs_background": "light"
     },
     "output_type": "display_data"
    }
   ],
   "source": [
    "pl_rf = predictions_dt.select(['prediction', 'label']).rdd.map(lambda line:(line[0], line[1]))\n",
    "\n",
    "# Instantiating the metrics object\n",
    "metrics_rf = MulticlassMetrics(pl_rf)\n",
    "confusion_matrix_rf = metrics_rf.confusionMatrix().toArray()\n",
    "print(\"Confusion matrix:\")\n",
    "print(confusion_matrix_rf, \"\\n\")\n",
    "# Overall statistics\n",
    "print(\"Overall Statistics\")\n",
    "print(\"Precision = \", metrics_rf.precision())\n",
    "print(\"Recall = \",  metrics_rf.recall())\n",
    "print(\"F1 Score = \", metrics_rf.fMeasure())\n",
    "\n",
    "plt.title('Confusion matrix of Random Forest classifier')\n",
    "ax = sns.heatmap(confusion_matrix_rf, cmap=\"YlGnBu\")\n",
    "plt.xlabel('Predicted')\n",
    "plt.ylabel('True')\n",
    "plt.show()"
   ]
  },
  {
   "cell_type": "markdown",
   "metadata": {},
   "source": [
    "Logistic Regression"
   ]
  },
  {
   "cell_type": "code",
   "execution_count": 34,
   "metadata": {},
   "outputs": [
    {
     "name": "stdout",
     "output_type": "stream",
     "text": [
      "Confusion matrix:\n",
      "[[27630.  5428.]\n",
      " [ 4260.  5249.]] \n",
      "\n",
      "Summary Stats\n",
      "Precision =  0.7724058543002795\n",
      "Recall =  0.7724058543002795\n",
      "F1 Score =  0.7724058543002795\n"
     ]
    },
    {
     "data": {
      "image/png": "[encoded data removed]",
      "text/plain": [
       "<Figure size 432x288 with 2 Axes>"
      ]
     },
     "metadata": {
      "needs_background": "light"
     },
     "output_type": "display_data"
    }
   ],
   "source": [
    "pl_lr = predictions_dt.select(['prediction', 'label']).rdd.map(lambda line:(line[0], line[1]))\n",
    "\n",
    "# Instantiating the metrics object\n",
    "metrics_lr = MulticlassMetrics(pl_lr)\n",
    "confusion_matrix_lr = metrics_lr.confusionMatrix().toArray()\n",
    "print(\"Confusion matrix:\")\n",
    "print(confusion_matrix_lr, \"\\n\")\n",
    "# Overall statistics\n",
    "print(\"Summary Stats\")\n",
    "print(\"Precision = \",  metrics_lr.precision())\n",
    "print(\"Recall = \",  metrics_lr.recall())\n",
    "print(\"F1 Score = \", metrics_lr.fMeasure())\n",
    "\n",
    "plt.title('Confusion matrix of Logistic regression classifier')\n",
    "ax = sns.heatmap(confusion_matrix_lr, cmap=\"YlGnBu\")\n",
    "plt.xlabel('Predicted')\n",
    "plt.ylabel('True')\n",
    "plt.show()\n"
   ]
  },
  {
   "cell_type": "markdown",
   "metadata": {},
   "source": [
    "Gradient boosted tree classifier"
   ]
  },
  {
   "cell_type": "code",
   "execution_count": 35,
   "metadata": {},
   "outputs": [
    {
     "name": "stdout",
     "output_type": "stream",
     "text": [
      "Confusion matrix:\n",
      "[[27630.  5428.]\n",
      " [ 4260.  5249.]] \n",
      "\n",
      "Summary Stats\n",
      "Precision =  0.7724058543002795\n",
      "Recall =  0.7724058543002795\n",
      "F1 Score =  0.7724058543002795\n"
     ]
    },
    {
     "data": {
      "image/png": "[encoded data removed]",
      "text/plain": [
       "<Figure size 432x288 with 2 Axes>"
      ]
     },
     "metadata": {
      "needs_background": "light"
     },
     "output_type": "display_data"
    }
   ],
   "source": [
    "pl_gbt = predictions_dt.select(['prediction', 'label']).rdd.map(lambda line:(line[0], line[1]))\n",
    "\n",
    "# Instantiating the metrics object\n",
    "metrics_gbt = MulticlassMetrics(pl_gbt)\n",
    "confusion_matrix_gbt = metrics_gbt.confusionMatrix().toArray()\n",
    "print(\"Confusion matrix:\")\n",
    "print(confusion_matrix_gbt, \"\\n\")\n",
    "# Overall statistics\n",
    "print(\"Summary Stats\")\n",
    "print(\"Precision = \", metrics_gbt.precision())\n",
    "print(\"Recall = \", metrics_gbt.recall())\n",
    "print(\"F1 Score = \", metrics_gbt.fMeasure())\n",
    "\n",
    "plt.title('Confusion matrix of Gradient boosted tree classifier')\n",
    "ax = sns.heatmap(confusion_matrix_gbt, cmap=\"YlGnBu\")\n",
    "plt.xlabel('Predicted')\n",
    "plt.ylabel('True')\n",
    "plt.show()"
   ]
  },
  {
   "cell_type": "markdown",
   "metadata": {},
   "source": [
    "The Accuracy of the above predictions can be improved by treating outliers appropriately. It is important to detect the outliers and perform transformation on them so as to reduce their negative impact on the accuracy. Also, finding the optimum value of each parameters(parameter tuning) in each of the above machine learning algorithms can help in improving the accuracy of the predictions. Overall, collecting more weather data also can help in providing better predictions."
   ]
  },
  {
   "cell_type": "markdown",
   "metadata": {},
   "source": [
    "References:\n",
    "\n",
    "Tutorial material\n",
    "\n",
    "https://medium.com/thalus-ai/performance-metrics-for-classification-problems-in-machine-learning-part-i-b085d432082b\n",
    "\n",
    "https://spark.apache.org/docs/latest/mllib-evaluation-metrics.html\n",
    "\n",
    "https://www.analyticsvidhya.com/blog/2016/01/guide-data-exploration/\n"
   ]
  },
  {
   "cell_type": "code",
   "execution_count": null,
   "metadata": {},
   "outputs": [],
   "source": []
  }
 ],
 "metadata": {
  "kernelspec": {
   "display_name": "Python 3",
   "language": "python",
   "name": "python3"
  },
  "language_info": {
   "codemirror_mode": {
    "name": "ipython",
    "version": 3
   },
   "file_extension": ".py",
   "mimetype": "text/x-python",
   "name": "python",
   "nbconvert_exporter": "python",
   "pygments_lexer": "ipython3",
   "version": "3.6.5"
  }
 },
 "nbformat": 4,
 "nbformat_minor": 2
}
